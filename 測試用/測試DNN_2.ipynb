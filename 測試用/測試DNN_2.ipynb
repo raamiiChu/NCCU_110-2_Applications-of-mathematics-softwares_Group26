{
  "nbformat": 4,
  "nbformat_minor": 0,
  "metadata": {
    "colab": {
      "provenance": [],
      "mount_file_id": "1IfMiEGmxVC2IKUfhkjHuGfancyh6C7_B",
      "authorship_tag": "ABX9TyNNiWLcThvZ+LWAQ8heqpJ9",
      "include_colab_link": true
    },
    "kernelspec": {
      "name": "python3",
      "display_name": "Python 3"
    },
    "language_info": {
      "name": "python"
    },
    "accelerator": "GPU"
  },
  "cells": [
    {
      "cell_type": "markdown",
      "metadata": {
        "id": "view-in-github",
        "colab_type": "text"
      },
      "source": [
        "<a href=\"https://colab.research.google.com/github/raamiiChu/NCCU_110-2_Group26_Applications-of-mathematics-softwares/blob/main/%E6%B8%AC%E8%A9%A6%E7%94%A8/%E6%B8%AC%E8%A9%A6DNN_2.ipynb\" target=\"_parent\"><img src=\"https://colab.research.google.com/assets/colab-badge.svg\" alt=\"Open In Colab\"/></a>"
      ]
    },
    {
      "cell_type": "code",
      "execution_count": null,
      "metadata": {
        "id": "aikPBv6GXuPO"
      },
      "outputs": [],
      "source": [
        "%matplotlib inline\n",
        "\n",
        "import numpy as np\n",
        "import pandas as pd\n",
        "import matplotlib.pyplot as plt\n",
        "import torch"
      ]
    },
    {
      "cell_type": "code",
      "source": [
        "from tensorflow.keras.utils import to_categorical  # one hot encoding\n",
        "from tensorflow.keras.models import Sequential  # 函數學習機\n",
        "from tensorflow.keras.layers import Dense, Embedding  # 隱藏層\n",
        "from tensorflow.keras.optimizers import Adam  # 優化器(學習方法)"
      ],
      "metadata": {
        "id": "duVV3lOjXzQV"
      },
      "execution_count": null,
      "outputs": []
    },
    {
      "cell_type": "markdown",
      "source": [
        "# <font color=#FF3030>先把 pt 檔上傳後，再去執行之後的程式碼</font>"
      ],
      "metadata": {
        "id": "75tlNSiA-wmb"
      }
    },
    {
      "cell_type": "markdown",
      "source": [
        "##### 資料"
      ],
      "metadata": {
        "id": "RYMUrlB3dtok"
      }
    },
    {
      "cell_type": "markdown",
      "source": [
        "把資料從 torch.tensor 轉成 numpy.array"
      ],
      "metadata": {
        "id": "t4O2hnhc_Cik"
      }
    },
    {
      "cell_type": "code",
      "source": [
        "def load_data(data_type:str) -> np.array:\n",
        "    datas = torch.load(f\"5000_{data_type}_emb.pt\")\n",
        "    return np.array([data.numpy().reshape(256,) for data in datas])"
      ],
      "metadata": {
        "id": "yrFvbVD8IDAw"
      },
      "execution_count": null,
      "outputs": []
    },
    {
      "cell_type": "code",
      "source": [
        "x_train = load_data(\"train\")\n",
        "x_valid = load_data(\"valid\")\n",
        "x_test = load_data(\"test\")"
      ],
      "metadata": {
        "id": "HSXG4j7WIh10"
      },
      "execution_count": null,
      "outputs": []
    },
    {
      "cell_type": "code",
      "source": [
        "# [\"de\", \"zh\", \"ar\", \"ru\", \"es\"]\n",
        "y = np.array([0]*1000 + [1]*1000 + [2]*1000 + [3]*1000 + [4]*1000)\n",
        "y = to_categorical(y, 5)"
      ],
      "metadata": {
        "id": "t4Ct4e0LLpWY"
      },
      "execution_count": null,
      "outputs": []
    },
    {
      "cell_type": "code",
      "source": [
        "print(x_train.shape, x_valid.shape, x_test.shape, y.shape)"
      ],
      "metadata": {
        "colab": {
          "base_uri": "https://localhost:8080/"
        },
        "id": "8r5kntYOjooJ",
        "outputId": "df0b472e-7e9a-4b6a-bbfa-fe5c2c17dac8"
      },
      "execution_count": null,
      "outputs": [
        {
          "output_type": "stream",
          "name": "stdout",
          "text": [
            "(5000, 256) (5000, 256) (5000, 256) (5000, 5)\n"
          ]
        }
      ]
    },
    {
      "cell_type": "markdown",
      "source": [
        "##### 組裝模型"
      ],
      "metadata": {
        "id": "v8IOUuY1dx3C"
      }
    },
    {
      "cell_type": "code",
      "source": [
        "x_train[0].shape"
      ],
      "metadata": {
        "colab": {
          "base_uri": "https://localhost:8080/"
        },
        "id": "KvQy5-4npCqN",
        "outputId": "81a4c1a0-393b-4694-8b30-e1c2d4d4bb0b"
      },
      "execution_count": null,
      "outputs": [
        {
          "output_type": "execute_result",
          "data": {
            "text/plain": [
              "(256,)"
            ]
          },
          "metadata": {},
          "execution_count": 9
        }
      ]
    },
    {
      "cell_type": "markdown",
      "source": [
        "參數是亂寫的"
      ],
      "metadata": {
        "id": "-gpAHcGQ_W3e"
      }
    },
    {
      "cell_type": "code",
      "source": [
        "model = Sequential()\n",
        "model.add(Dense(256,input_shape=(256,), activation='relu'))\n",
        "model.add(Dense(512, activation='relu'))\n",
        "model.add(Dense(1024, activation='relu'))\n",
        "model.add(Dense(5, activation='softmax'))  # 幾個結果"
      ],
      "metadata": {
        "id": "rx-x2p44YRzK"
      },
      "execution_count": null,
      "outputs": []
    },
    {
      "cell_type": "code",
      "source": [
        "model.compile(loss='categorical_crossentropy', \n",
        "              optimizer=Adam(learning_rate=0.005), \n",
        "              metrics=['accuracy'])"
      ],
      "metadata": {
        "id": "dVTT-4j_Yojv"
      },
      "execution_count": null,
      "outputs": []
    },
    {
      "cell_type": "code",
      "source": [
        "model.summary()"
      ],
      "metadata": {
        "colab": {
          "base_uri": "https://localhost:8080/"
        },
        "id": "GHyxkw5RY4f7",
        "outputId": "2697f025-a1fa-4f01-fdca-3049a5d9bb76"
      },
      "execution_count": null,
      "outputs": [
        {
          "output_type": "stream",
          "name": "stdout",
          "text": [
            "Model: \"sequential\"\n",
            "_________________________________________________________________\n",
            " Layer (type)                Output Shape              Param #   \n",
            "=================================================================\n",
            " dense (Dense)               (None, 256)               65792     \n",
            "                                                                 \n",
            " dense_1 (Dense)             (None, 512)               131584    \n",
            "                                                                 \n",
            " dense_2 (Dense)             (None, 1024)              525312    \n",
            "                                                                 \n",
            " dense_3 (Dense)             (None, 5)                 5125      \n",
            "                                                                 \n",
            "=================================================================\n",
            "Total params: 727,813\n",
            "Trainable params: 727,813\n",
            "Non-trainable params: 0\n",
            "_________________________________________________________________\n"
          ]
        }
      ]
    },
    {
      "cell_type": "markdown",
      "source": [
        "##### 使用模型"
      ],
      "metadata": {
        "id": "SDfrxYvC6Gke"
      }
    },
    {
      "cell_type": "code",
      "source": [
        "model.fit(x_train, y, batch_size=10, epochs=10,\n",
        "          validation_data=(x_valid, y))"
      ],
      "metadata": {
        "id": "j8n0mIApkGk2",
        "colab": {
          "base_uri": "https://localhost:8080/"
        },
        "outputId": "14bd2475-0c3a-4c04-b47f-a0c4a19f00dc"
      },
      "execution_count": null,
      "outputs": [
        {
          "output_type": "stream",
          "name": "stdout",
          "text": [
            "Epoch 1/10\n",
            "500/500 [==============================] - 5s 4ms/step - loss: 0.3283 - accuracy: 0.9430 - val_loss: 0.2336 - val_accuracy: 0.9262\n",
            "Epoch 2/10\n",
            "500/500 [==============================] - 2s 4ms/step - loss: 0.3503 - accuracy: 0.9520 - val_loss: 0.9221 - val_accuracy: 0.8286\n",
            "Epoch 3/10\n",
            "500/500 [==============================] - 2s 4ms/step - loss: 0.1596 - accuracy: 0.9540 - val_loss: 0.2836 - val_accuracy: 0.9072\n",
            "Epoch 4/10\n",
            "500/500 [==============================] - 2s 4ms/step - loss: 0.0933 - accuracy: 0.9700 - val_loss: 0.3429 - val_accuracy: 0.9248\n",
            "Epoch 5/10\n",
            "500/500 [==============================] - 2s 4ms/step - loss: 0.1172 - accuracy: 0.9684 - val_loss: 1.4848 - val_accuracy: 0.9212\n",
            "Epoch 6/10\n",
            "500/500 [==============================] - 2s 4ms/step - loss: 0.3153 - accuracy: 0.9664 - val_loss: 1.4514 - val_accuracy: 0.8994\n",
            "Epoch 7/10\n",
            "500/500 [==============================] - 2s 4ms/step - loss: 0.2256 - accuracy: 0.9598 - val_loss: 0.2829 - val_accuracy: 0.9208\n",
            "Epoch 8/10\n",
            "500/500 [==============================] - 3s 5ms/step - loss: 0.1013 - accuracy: 0.9676 - val_loss: 0.3470 - val_accuracy: 0.9404\n",
            "Epoch 9/10\n",
            "500/500 [==============================] - 3s 5ms/step - loss: 0.1291 - accuracy: 0.9644 - val_loss: 0.5265 - val_accuracy: 0.9388\n",
            "Epoch 10/10\n",
            "500/500 [==============================] - 2s 4ms/step - loss: 0.0987 - accuracy: 0.9714 - val_loss: 0.4037 - val_accuracy: 0.9126\n"
          ]
        },
        {
          "output_type": "execute_result",
          "data": {
            "text/plain": [
              "<keras.callbacks.History at 0x7f3a6d26dfd0>"
            ]
          },
          "metadata": {},
          "execution_count": 13
        }
      ]
    },
    {
      "cell_type": "code",
      "source": [
        "y_predict = np.argmax(model.predict(x_test), axis=-1)"
      ],
      "metadata": {
        "id": "nEBGXVXzLJXZ"
      },
      "execution_count": null,
      "outputs": []
    },
    {
      "cell_type": "code",
      "source": [
        "y_predict"
      ],
      "metadata": {
        "colab": {
          "base_uri": "https://localhost:8080/"
        },
        "id": "oyU-KrJyLLKF",
        "outputId": "dd8cfbbb-4c59-408a-e684-80cb1534614c"
      },
      "execution_count": null,
      "outputs": [
        {
          "output_type": "execute_result",
          "data": {
            "text/plain": [
              "array([0, 0, 0, ..., 4, 4, 4])"
            ]
          },
          "metadata": {},
          "execution_count": 15
        }
      ]
    },
    {
      "cell_type": "code",
      "source": [
        "score = model.evaluate(x_test, y, batch_size=1)"
      ],
      "metadata": {
        "colab": {
          "base_uri": "https://localhost:8080/"
        },
        "id": "lo6PDSPHPVVc",
        "outputId": "08782f98-5c0a-45b5-b5d5-52d4d00a41f2"
      },
      "execution_count": null,
      "outputs": [
        {
          "output_type": "stream",
          "name": "stdout",
          "text": [
            "5000/5000 [==============================] - 12s 2ms/step - loss: 0.3995 - accuracy: 0.8928\n"
          ]
        }
      ]
    },
    {
      "cell_type": "code",
      "source": [
        "n = 40\n",
        "print(np.argmax(y[n]), y_predict[n], sep=\"|\")"
      ],
      "metadata": {
        "colab": {
          "base_uri": "https://localhost:8080/"
        },
        "id": "hXPLrx6kPmBk",
        "outputId": "5e2f2852-10d6-4e89-b45c-9b4587d9323a"
      },
      "execution_count": null,
      "outputs": [
        {
          "output_type": "stream",
          "name": "stdout",
          "text": [
            "0|0\n"
          ]
        }
      ]
    },
    {
      "cell_type": "code",
      "source": [
        "model.save(\"/content/drive/MyDrive/Colab Notebooks/數學軟體應用/期末專案/audio_classification_model/assets\")"
      ],
      "metadata": {
        "id": "nSmarhUh6uma",
        "colab": {
          "base_uri": "https://localhost:8080/"
        },
        "outputId": "4cc8ec57-787b-4ac8-f24b-c144b848b247"
      },
      "execution_count": null,
      "outputs": [
        {
          "output_type": "stream",
          "name": "stdout",
          "text": [
            "INFO:tensorflow:Assets written to: /content/drive/MyDrive/Colab Notebooks/數學軟體應用/期末專案/audio_classification_model/assets\n"
          ]
        }
      ]
    }
  ]
}