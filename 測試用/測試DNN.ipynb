{
  "nbformat": 4,
  "nbformat_minor": 0,
  "metadata": {
    "colab": {
      "provenance": [],
      "authorship_tag": "ABX9TyMjm1tViDphF7E3DRvJR0KC",
      "include_colab_link": true
    },
    "kernelspec": {
      "name": "python3",
      "display_name": "Python 3"
    },
    "language_info": {
      "name": "python"
    },
    "accelerator": "GPU"
  },
  "cells": [
    {
      "cell_type": "markdown",
      "metadata": {
        "id": "view-in-github",
        "colab_type": "text"
      },
      "source": [
        "<a href=\"https://colab.research.google.com/github/raamiiChu/NCCU_110-2_Group26_Applications-of-mathematics-softwares/blob/main/%E6%B8%AC%E8%A9%A6%E7%94%A8/%E6%B8%AC%E8%A9%A6DNN.ipynb\" target=\"_parent\"><img src=\"https://colab.research.google.com/assets/colab-badge.svg\" alt=\"Open In Colab\"/></a>"
      ]
    },
    {
      "cell_type": "code",
      "execution_count": null,
      "metadata": {
        "id": "aikPBv6GXuPO"
      },
      "outputs": [],
      "source": [
        "%matplotlib inline\n",
        "\n",
        "import numpy as np\n",
        "import pandas as pd\n",
        "import matplotlib.pyplot as plt\n",
        "import torch"
      ]
    },
    {
      "cell_type": "code",
      "source": [
        "from tensorflow.keras.utils import to_categorical  # one hot encoding\n",
        "from tensorflow.keras.models import Sequential  # 函數學習機\n",
        "from tensorflow.keras.layers import Dense, Embedding  # 隱藏層\n",
        "from tensorflow.keras.optimizers import Adam  # 優化器(學習方法)\n",
        "\n",
        "from tensorflow.keras.preprocessing import sequence\n",
        "from tensorflow.keras.layers import LSTM"
      ],
      "metadata": {
        "id": "duVV3lOjXzQV"
      },
      "execution_count": null,
      "outputs": []
    },
    {
      "cell_type": "markdown",
      "source": [
        "# <font color=#FF3030>先把 pt 檔上傳後，再去執行之後的程式碼</font>"
      ],
      "metadata": {
        "id": "75tlNSiA-wmb"
      }
    },
    {
      "cell_type": "markdown",
      "source": [
        "##### 資料"
      ],
      "metadata": {
        "id": "RYMUrlB3dtok"
      }
    },
    {
      "cell_type": "markdown",
      "source": [
        "把資料從 torch.tensor 轉成 numpy.array"
      ],
      "metadata": {
        "id": "t4O2hnhc_Cik"
      }
    },
    {
      "cell_type": "code",
      "source": [
        "x_train = torch.load(\"train_emb.pt\")\n",
        "x_train = np.array([data.numpy().reshape(256,) for data in x_train])"
      ],
      "metadata": {
        "id": "SAta3CsuEefI"
      },
      "execution_count": null,
      "outputs": []
    },
    {
      "cell_type": "code",
      "source": [
        "x_valid = torch.load(\"valid_emb.pt\")\n",
        "x_valid = np.array([data.numpy().reshape(256,) for data in x_valid])"
      ],
      "metadata": {
        "id": "QwnQd_jijJgf"
      },
      "execution_count": null,
      "outputs": []
    },
    {
      "cell_type": "code",
      "source": [
        "x_test = torch.load(\"test_emb.pt\")\n",
        "x_test = np.array([data.numpy().reshape(256,) for data in x_test])"
      ],
      "metadata": {
        "id": "SyVim7VTK2ny"
      },
      "execution_count": null,
      "outputs": []
    },
    {
      "cell_type": "markdown",
      "source": [
        "資料數量沒有調整過，因此比例相當懸殊"
      ],
      "metadata": {
        "id": "qxynJ3JV_eEU"
      }
    },
    {
      "cell_type": "code",
      "source": [
        "y_train = np.array([0]*3507 + [1]*14227 + [2]*722)\n",
        "y_train = to_categorical(y_train, 3)"
      ],
      "metadata": {
        "id": "3uue_5X7FG_F"
      },
      "execution_count": null,
      "outputs": []
    },
    {
      "cell_type": "code",
      "source": [
        "y_valid = np.array([0]*2895 + [1]*7517 + [2]*586)\n",
        "y_valid = to_categorical(y_valid, 3)"
      ],
      "metadata": {
        "id": "ExW5fzH0jJu_"
      },
      "execution_count": null,
      "outputs": []
    },
    {
      "cell_type": "code",
      "source": [
        "y_test = np.array([0]*2895 + [1]*7622 + [2]*632)\n",
        "y_test = to_categorical(y_test, 3)"
      ],
      "metadata": {
        "id": "MXsCzzOOK939"
      },
      "execution_count": null,
      "outputs": []
    },
    {
      "cell_type": "code",
      "source": [
        "print(x_train.shape, y_train.shape)\n",
        "print(x_valid.shape, y_valid.shape)\n",
        "print(x_test.shape, y_test.shape)"
      ],
      "metadata": {
        "colab": {
          "base_uri": "https://localhost:8080/"
        },
        "id": "8r5kntYOjooJ",
        "outputId": "e11ba9b3-b647-47d4-ea83-7581b20b7f49"
      },
      "execution_count": null,
      "outputs": [
        {
          "output_type": "stream",
          "name": "stdout",
          "text": [
            "(18456, 256) (18456, 3)\n",
            "(10998, 256) (10998, 3)\n",
            "(11149, 256) (11149, 3)\n"
          ]
        }
      ]
    },
    {
      "cell_type": "markdown",
      "source": [
        "##### 組裝模型"
      ],
      "metadata": {
        "id": "v8IOUuY1dx3C"
      }
    },
    {
      "cell_type": "code",
      "source": [
        "x_train[0].shape"
      ],
      "metadata": {
        "colab": {
          "base_uri": "https://localhost:8080/"
        },
        "id": "KvQy5-4npCqN",
        "outputId": "f5b8629d-087b-46d5-8d5f-60afd6c16d69"
      },
      "execution_count": null,
      "outputs": [
        {
          "output_type": "execute_result",
          "data": {
            "text/plain": [
              "(256,)"
            ]
          },
          "metadata": {},
          "execution_count": 10
        }
      ]
    },
    {
      "cell_type": "markdown",
      "source": [
        "參數是亂寫的"
      ],
      "metadata": {
        "id": "-gpAHcGQ_W3e"
      }
    },
    {
      "cell_type": "code",
      "source": [
        "model = Sequential()\n",
        "model.add(Dense(64,input_shape=(256,), activation='relu'))\n",
        "model.add(Dense(128, activation='relu'))\n",
        "model.add(Dense(256, activation='relu'))\n",
        "model.add(Dense(3, activation='softmax'))  # 幾個結果"
      ],
      "metadata": {
        "id": "rx-x2p44YRzK"
      },
      "execution_count": null,
      "outputs": []
    },
    {
      "cell_type": "code",
      "source": [
        "model.compile(loss='categorical_crossentropy', \n",
        "              optimizer=Adam(learning_rate=0.005), \n",
        "              metrics=['accuracy'])"
      ],
      "metadata": {
        "id": "dVTT-4j_Yojv"
      },
      "execution_count": null,
      "outputs": []
    },
    {
      "cell_type": "code",
      "source": [
        "model.summary()"
      ],
      "metadata": {
        "colab": {
          "base_uri": "https://localhost:8080/"
        },
        "id": "GHyxkw5RY4f7",
        "outputId": "769168f0-058d-47bc-9034-85d93f7c17dc"
      },
      "execution_count": null,
      "outputs": [
        {
          "output_type": "stream",
          "name": "stdout",
          "text": [
            "Model: \"sequential\"\n",
            "_________________________________________________________________\n",
            " Layer (type)                Output Shape              Param #   \n",
            "=================================================================\n",
            " dense (Dense)               (None, 64)                16448     \n",
            "                                                                 \n",
            " dense_1 (Dense)             (None, 128)               8320      \n",
            "                                                                 \n",
            " dense_2 (Dense)             (None, 256)               33024     \n",
            "                                                                 \n",
            " dense_3 (Dense)             (None, 3)                 771       \n",
            "                                                                 \n",
            "=================================================================\n",
            "Total params: 58,563\n",
            "Trainable params: 58,563\n",
            "Non-trainable params: 0\n",
            "_________________________________________________________________\n"
          ]
        }
      ]
    },
    {
      "cell_type": "markdown",
      "source": [
        "##### 使用模型"
      ],
      "metadata": {
        "id": "SDfrxYvC6Gke"
      }
    },
    {
      "cell_type": "markdown",
      "source": [
        "準確率極高，但不排除是因為資料比例懸殊的緣故"
      ],
      "metadata": {
        "id": "A_tDcZS-_-hh"
      }
    },
    {
      "cell_type": "code",
      "source": [
        "model.fit(x_train, y_train, batch_size=10, epochs=10,\n",
        "          validation_data=(x_valid, y_valid))"
      ],
      "metadata": {
        "id": "j8n0mIApkGk2",
        "colab": {
          "base_uri": "https://localhost:8080/"
        },
        "outputId": "c73dfb6b-5242-4aa2-8449-7a07f6648233"
      },
      "execution_count": null,
      "outputs": [
        {
          "output_type": "stream",
          "name": "stdout",
          "text": [
            "Epoch 1/10\n",
            "1846/1846 [==============================] - 10s 4ms/step - loss: 0.0826 - accuracy: 0.9820 - val_loss: 0.1227 - val_accuracy: 0.9723\n",
            "Epoch 2/10\n",
            "1846/1846 [==============================] - 6s 4ms/step - loss: 0.0840 - accuracy: 0.9850 - val_loss: 0.1759 - val_accuracy: 0.9551\n",
            "Epoch 3/10\n",
            "1846/1846 [==============================] - 7s 4ms/step - loss: 0.0598 - accuracy: 0.9861 - val_loss: 0.1241 - val_accuracy: 0.9663\n",
            "Epoch 4/10\n",
            "1846/1846 [==============================] - 6s 4ms/step - loss: 0.0517 - accuracy: 0.9873 - val_loss: 0.1664 - val_accuracy: 0.9694\n",
            "Epoch 5/10\n",
            "1846/1846 [==============================] - 7s 4ms/step - loss: 0.0520 - accuracy: 0.9884 - val_loss: 0.2473 - val_accuracy: 0.9694\n",
            "Epoch 6/10\n",
            "1846/1846 [==============================] - 6s 3ms/step - loss: 0.0410 - accuracy: 0.9890 - val_loss: 0.1735 - val_accuracy: 0.9740\n",
            "Epoch 7/10\n",
            "1846/1846 [==============================] - 7s 4ms/step - loss: 0.0338 - accuracy: 0.9893 - val_loss: 0.3289 - val_accuracy: 0.9627\n",
            "Epoch 8/10\n",
            "1846/1846 [==============================] - 7s 4ms/step - loss: 0.0504 - accuracy: 0.9884 - val_loss: 0.1189 - val_accuracy: 0.9653\n",
            "Epoch 9/10\n",
            "1846/1846 [==============================] - 7s 4ms/step - loss: 0.0397 - accuracy: 0.9899 - val_loss: 0.1201 - val_accuracy: 0.9704\n",
            "Epoch 10/10\n",
            "1846/1846 [==============================] - 6s 4ms/step - loss: 0.0486 - accuracy: 0.9894 - val_loss: 0.1673 - val_accuracy: 0.9624\n"
          ]
        },
        {
          "output_type": "execute_result",
          "data": {
            "text/plain": [
              "<keras.callbacks.History at 0x7f6689c6bb10>"
            ]
          },
          "metadata": {},
          "execution_count": 14
        }
      ]
    },
    {
      "cell_type": "code",
      "source": [
        "y_predict = np.argmax(model.predict(x_test), axis=-1)"
      ],
      "metadata": {
        "id": "nEBGXVXzLJXZ"
      },
      "execution_count": null,
      "outputs": []
    },
    {
      "cell_type": "code",
      "source": [
        "y_predict"
      ],
      "metadata": {
        "colab": {
          "base_uri": "https://localhost:8080/"
        },
        "id": "oyU-KrJyLLKF",
        "outputId": "48169de6-cab2-4f34-ac43-46ade26293de"
      },
      "execution_count": null,
      "outputs": [
        {
          "output_type": "execute_result",
          "data": {
            "text/plain": [
              "array([0, 0, 0, ..., 1, 2, 2])"
            ]
          },
          "metadata": {},
          "execution_count": 16
        }
      ]
    },
    {
      "cell_type": "code",
      "source": [
        "score = model.evaluate(x_test, y_test, batch_size=1)"
      ],
      "metadata": {
        "colab": {
          "base_uri": "https://localhost:8080/"
        },
        "id": "lo6PDSPHPVVc",
        "outputId": "123e1f39-9c2f-48be-9884-af2bee717f0a"
      },
      "execution_count": null,
      "outputs": [
        {
          "output_type": "stream",
          "name": "stdout",
          "text": [
            "11149/11149 [==============================] - 25s 2ms/step - loss: 0.2062 - accuracy: 0.9507\n"
          ]
        }
      ]
    },
    {
      "cell_type": "code",
      "source": [
        "n = 1000\n",
        "print(np.argmax(y_test[n]), y_predict[n], sep=\"|\")"
      ],
      "metadata": {
        "colab": {
          "base_uri": "https://localhost:8080/"
        },
        "id": "hXPLrx6kPmBk",
        "outputId": "e45016b5-5eb2-49a6-8e9c-bd8c88b2faec"
      },
      "execution_count": null,
      "outputs": [
        {
          "output_type": "stream",
          "name": "stdout",
          "text": [
            "0|0\n"
          ]
        }
      ]
    },
    {
      "cell_type": "code",
      "source": [],
      "metadata": {
        "id": "nSmarhUh6uma"
      },
      "execution_count": null,
      "outputs": []
    }
  ]
}